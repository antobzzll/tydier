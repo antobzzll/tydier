{
    "cells": [
        {
            "cell_type": "markdown",
            "metadata": {},
            "source": [
                "# `dfcleaner` demonstration: usage examples"
            ]
        },
        {
            "cell_type": "markdown",
            "metadata": {},
            "source": [
                "## Importing `dfcleaner` in a project:"
            ]
        },
        {
            "cell_type": "markdown",
            "metadata": {},
            "source": [
                "To use `dfcleaner` in a project we have to import its subpackages, according to the type of operations that are required."
            ]
        },
        {
            "cell_type": "code",
            "execution_count": 1,
            "metadata": {},
            "outputs": [],
            "source": [
                "# import dfcleaner\n",
                "# print(dfcleaner.__version__)\n",
                "\n",
                "from dfcleaner import catvars as catvars # for methods operating on categorical variables \n",
                "from dfcleaner import numvars as numvars # for methods operating on numeric variables\n",
                "from dfcleaner import strings as strings # for methods operating on strings"
            ]
        },
        {
            "cell_type": "markdown",
            "metadata": {},
            "source": [
                "Let's also import some external packages for the sake of this demonstration."
            ]
        },
        {
            "cell_type": "code",
            "execution_count": 2,
            "metadata": {},
            "outputs": [],
            "source": [
                "import pandas as pd"
            ]
        },
        {
            "cell_type": "markdown",
            "metadata": {},
            "source": [
                "## Categorical variables"
            ]
        },
        {
            "cell_type": "markdown",
            "metadata": {},
            "source": [
                "To display how `dfcleaner` works on categorical variables, let's first create a dummy `pandas` dataframe. In this case, we fill it with two columns: one representing a categorical variable full of \"mistakes\" and one with the \"right\" categories."
            ]
        },
        {
            "cell_type": "code",
            "execution_count": 3,
            "metadata": {},
            "outputs": [
                {
                    "data": {
                        "text/html": [
                            "<div>\n",
                            "<style scoped>\n",
                            "    .dataframe tbody tr th:only-of-type {\n",
                            "        vertical-align: middle;\n",
                            "    }\n",
                            "\n",
                            "    .dataframe tbody tr th {\n",
                            "        vertical-align: top;\n",
                            "    }\n",
                            "\n",
                            "    .dataframe thead th {\n",
                            "        text-align: right;\n",
                            "    }\n",
                            "</style>\n",
                            "<table border=\"1\" class=\"dataframe\">\n",
                            "  <thead>\n",
                            "    <tr style=\"text-align: right;\">\n",
                            "      <th></th>\n",
                            "      <th>dirty_cats</th>\n",
                            "      <th>clean_cats</th>\n",
                            "    </tr>\n",
                            "  </thead>\n",
                            "  <tbody>\n",
                            "    <tr>\n",
                            "      <th>0</th>\n",
                            "      <td>monday</td>\n",
                            "      <td>Monday</td>\n",
                            "    </tr>\n",
                            "    <tr>\n",
                            "      <th>1</th>\n",
                            "      <td>Tusday</td>\n",
                            "      <td>Tuesday</td>\n",
                            "    </tr>\n",
                            "    <tr>\n",
                            "      <th>2</th>\n",
                            "      <td>Wednesday</td>\n",
                            "      <td>Wednesday</td>\n",
                            "    </tr>\n",
                            "    <tr>\n",
                            "      <th>3</th>\n",
                            "      <td>thurda</td>\n",
                            "      <td>Thursday</td>\n",
                            "    </tr>\n",
                            "    <tr>\n",
                            "      <th>4</th>\n",
                            "      <td>Firday</td>\n",
                            "      <td>Friday</td>\n",
                            "    </tr>\n",
                            "    <tr>\n",
                            "      <th>5</th>\n",
                            "      <td>saty</td>\n",
                            "      <td>Saturday</td>\n",
                            "    </tr>\n",
                            "    <tr>\n",
                            "      <th>6</th>\n",
                            "      <td>Sunday</td>\n",
                            "      <td>Sunday</td>\n",
                            "    </tr>\n",
                            "  </tbody>\n",
                            "</table>\n",
                            "</div>"
                        ],
                        "text/plain": [
                            "  dirty_cats clean_cats\n",
                            "0     monday     Monday\n",
                            "1     Tusday    Tuesday\n",
                            "2  Wednesday  Wednesday\n",
                            "3     thurda   Thursday\n",
                            "4     Firday     Friday\n",
                            "5       saty   Saturday\n",
                            "6     Sunday     Sunday"
                        ]
                    },
                    "execution_count": 3,
                    "metadata": {},
                    "output_type": "execute_result"
                }
            ],
            "source": [
                "dirty_cats = ['monday', 'Tusday', 'Wednesday', 'thurda', 'Firday', 'saty', 'Sunday']\n",
                "clean_cats = ['Monday', 'Tuesday', 'Wednesday', 'Thursday', 'Friday', 'Saturday', 'Sunday']\n",
                "\n",
                "df = pd.DataFrame({'dirty_cats': dirty_cats, 'clean_cats': clean_cats})\n",
                "df"
            ]
        },
        {
            "cell_type": "markdown",
            "metadata": {},
            "source": [
                "### catvars.categorical_variables()\n",
                "Retrieves a `pandas.DataFrame`'s categorical variables and their unique values."
            ]
        },
        {
            "cell_type": "code",
            "execution_count": 4,
            "metadata": {},
            "outputs": [
                {
                    "name": "stdout",
                    "output_type": "stream",
                    "text": [
                        "{'dirty_cats': array(['monday', 'Tusday', 'Wednesday', 'thurda', 'Firday', 'saty',\n",
                        "       'Sunday'], dtype=object), 'clean_cats': array(['Monday', 'Tuesday', 'Wednesday', 'Thursday', 'Friday', 'Saturday',\n",
                        "       'Sunday'], dtype=object)}\n",
                        "\n",
                        "(1) dirty_cats | 7 unique values:\n",
                        "['monday' 'Tusday' 'Wednesday' 'thurda' 'Firday' 'saty' 'Sunday']\n",
                        "\n",
                        "(2) clean_cats | 7 unique values:\n",
                        "['Monday' 'Tuesday' 'Wednesday' 'Thursday' 'Friday' 'Saturday' 'Sunday']\n",
                        "\n"
                    ]
                }
            ],
            "source": [
                "print(catvars.categorical_variables(df))\n",
                "print()\n",
                "catvars.categorical_variables(df, display=True)"
            ]
        },
        {
            "cell_type": "markdown",
            "metadata": {},
            "source": [
                "### catvars.find_inconsistent_categories()\n",
                "Find inconsistent categorical values in a `pd.Series` by checking it against a correct list of permitted parameters."
            ]
        },
        {
            "cell_type": "code",
            "execution_count": 5,
            "metadata": {},
            "outputs": [
                {
                    "data": {
                        "text/plain": [
                            "{'Firday': 'Friday',\n",
                            " 'Tusday': 'Tuesday',\n",
                            " 'saty': 'Saturday',\n",
                            " 'monday': 'Monday',\n",
                            " 'thurda': 'Thursday'}"
                        ]
                    },
                    "execution_count": 5,
                    "metadata": {},
                    "output_type": "execute_result"
                }
            ],
            "source": [
                "catvars.find_inconsistent_categories(dirty_cats, clean_cats, mapping_dict=True)"
            ]
        },
        {
            "cell_type": "code",
            "execution_count": 6,
            "metadata": {},
            "outputs": [
                {
                    "name": "stdout",
                    "output_type": "stream",
                    "text": [
                        "Categorical variables to fix: \n",
                        "['Firday', 'Tusday', 'saty', 'monday', 'thurda']\n",
                        "    tofix        cat  match_ratio_charbychar  match_ratio_common  \\\n",
                        "0  Firday     Monday                0.500000            0.500000   \n",
                        "1  Firday    Tuesday                0.000000            0.428571   \n",
                        "2  Firday  Wednesday                0.000000            0.333333   \n",
                        "3  Firday   Thursday                0.000000            0.500000   \n",
                        "4  Firday     Friday                0.666667            1.000000   \n",
                        "5  Firday   Saturday                0.000000            0.500000   \n",
                        "6  Firday     Sunday                0.500000            0.500000   \n",
                        "\n",
                        "   match_ratio_sliceeach  match_ratio  \n",
                        "0               0.400000     1.400000  \n",
                        "1               0.333333     0.761905  \n",
                        "2               0.250000     0.583333  \n",
                        "3               0.285714     0.785714  \n",
                        "4               0.400000     2.066667  \n",
                        "5               0.428571     0.928571  \n",
                        "6               0.400000     1.400000  \n",
                        "    tofix        cat  match_ratio_charbychar  match_ratio_common  \\\n",
                        "0  Tusday     Monday                0.500000            0.500000   \n",
                        "1  Tusday    Tuesday                0.285714            0.857143   \n",
                        "2  Tusday  Wednesday                0.000000            0.444444   \n",
                        "3  Tusday   Thursday                0.125000            0.750000   \n",
                        "4  Tusday     Friday                0.500000            0.500000   \n",
                        "5  Tusday   Saturday                0.000000            0.750000   \n",
                        "6  Tusday     Sunday                0.666667            0.833333   \n",
                        "\n",
                        "   match_ratio_sliceeach  match_ratio  \n",
                        "0                  0.400     1.400000  \n",
                        "1                  0.800     1.942857  \n",
                        "2                  0.375     0.819444  \n",
                        "3                  0.600     1.475000  \n",
                        "4                  0.400     1.400000  \n",
                        "5                  0.600     1.350000  \n",
                        "6                  0.400     1.900000  \n",
                        "  tofix        cat  match_ratio_charbychar  match_ratio_common  \\\n",
                        "0  saty     Monday                0.000000            0.333333   \n",
                        "1  saty    Tuesday                0.000000            0.571429   \n",
                        "2  saty  Wednesday                0.000000            0.333333   \n",
                        "3  saty   Thursday                0.000000            0.500000   \n",
                        "4  saty     Friday                0.000000            0.333333   \n",
                        "5  saty   Saturday                0.375000            0.500000   \n",
                        "6  saty     Sunday                0.166667            0.500000   \n",
                        "\n",
                        "   match_ratio_sliceeach  match_ratio  \n",
                        "0               0.000000     0.333333  \n",
                        "1               0.000000     0.571429  \n",
                        "2               0.000000     0.333333  \n",
                        "3               0.000000     0.500000  \n",
                        "4               0.000000     0.333333  \n",
                        "5               0.666667     1.541667  \n",
                        "6               0.000000     0.666667  \n",
                        "    tofix        cat  match_ratio_charbychar  match_ratio_common  \\\n",
                        "0  monday     Monday                1.000000            1.000000   \n",
                        "1  monday    Tuesday                0.000000            0.428571   \n",
                        "2  monday  Wednesday                0.000000            0.444444   \n",
                        "3  monday   Thursday                0.000000            0.375000   \n",
                        "4  monday     Friday                0.500000            0.500000   \n",
                        "5  monday   Saturday                0.000000            0.375000   \n",
                        "6  monday     Sunday                0.666667            0.666667   \n",
                        "\n",
                        "   match_ratio_sliceeach  match_ratio  \n",
                        "0               1.000000     3.000000  \n",
                        "1               0.333333     0.761905  \n",
                        "2               0.250000     0.694444  \n",
                        "3               0.285714     0.660714  \n",
                        "4               0.400000     1.400000  \n",
                        "5               0.285714     0.660714  \n",
                        "6               0.600000     1.933333  \n",
                        "    tofix        cat  match_ratio_charbychar  match_ratio_common  \\\n",
                        "0  thurda     Monday                0.000000            0.333333   \n",
                        "1  thurda    Tuesday                0.428571            0.571429   \n",
                        "2  thurda  Wednesday                0.000000            0.222222   \n",
                        "3  thurda   Thursday                0.500000            0.750000   \n",
                        "4  thurda     Friday                0.000000            0.500000   \n",
                        "5  thurda   Saturday                0.000000            0.625000   \n",
                        "6  thurda     Sunday                0.000000            0.500000   \n",
                        "\n",
                        "   match_ratio_sliceeach  match_ratio  \n",
                        "0               0.200000     0.533333  \n",
                        "1               0.166667     1.166667  \n",
                        "2               0.125000     0.347222  \n",
                        "3               0.571429     1.821429  \n",
                        "4               0.200000     0.700000  \n",
                        "5               0.600000     1.225000  \n",
                        "6               0.200000     0.700000  \n"
                    ]
                },
                {
                    "data": {
                        "text/plain": [
                            "{'Firday': 'Friday',\n",
                            " 'Tusday': 'Tuesday',\n",
                            " 'saty': 'Saturday',\n",
                            " 'monday': 'Monday',\n",
                            " 'thurda': 'Thursday'}"
                        ]
                    },
                    "execution_count": 6,
                    "metadata": {},
                    "output_type": "execute_result"
                }
            ],
            "source": [
                "catvars.find_inconsistent_categories(dirty_cats, clean_cats, mapping_dict=True, verbose=True)"
            ]
        },
        {
            "cell_type": "markdown",
            "metadata": {},
            "source": [
                "## Operations on strings"
            ]
        },
        {
            "cell_type": "markdown",
            "metadata": {},
            "source": [
                "### strings.remove_chars()\n",
                "Simple method for cleaning recurrent unwanted characters or substrings from a target variable of type `str`, `list`, `tuple`, or `pandas.Series`."
            ]
        },
        {
            "cell_type": "code",
            "execution_count": 7,
            "metadata": {},
            "outputs": [
                {
                    "name": "stdout",
                    "output_type": "stream",
                    "text": [
                        "0       monda\n",
                        "1       Tusda\n",
                        "2    Wednesda\n",
                        "3      thurda\n",
                        "4       Firda\n",
                        "5         sat\n",
                        "6       Sunda\n",
                        "Name: dirty_cats, dtype: object\n"
                    ]
                },
                {
                    "data": {
                        "text/plain": [
                            "pandas.core.series.Series"
                        ]
                    },
                    "execution_count": 7,
                    "metadata": {},
                    "output_type": "execute_result"
                }
            ],
            "source": [
                "clean_pdSeries = strings.remove_chars(df['dirty_cats'], ['m', 'W', 'y'])\n",
                "print(clean_pdSeries)\n",
                "type(clean_pdSeries)"
            ]
        },
        {
            "cell_type": "code",
            "execution_count": 8,
            "metadata": {},
            "outputs": [
                {
                    "name": "stdout",
                    "output_type": "stream",
                    "text": [
                        "onda\n"
                    ]
                },
                {
                    "data": {
                        "text/plain": [
                            "str"
                        ]
                    },
                    "execution_count": 8,
                    "metadata": {},
                    "output_type": "execute_result"
                }
            ],
            "source": [
                "clean_str = strings.remove_chars('monday', ['m', 'y'])\n",
                "print(clean_str)\n",
                "type(clean_str)"
            ]
        },
        {
            "cell_type": "markdown",
            "metadata": {},
            "source": [
                "### strings.match_ratio()\n",
                "Function that provides different methods for comparing two given strings and return a match ratio."
            ]
        },
        {
            "cell_type": "code",
            "execution_count": 9,
            "metadata": {},
            "outputs": [
                {
                    "name": "stdout",
                    "output_type": "stream",
                    "text": [
                        "Character by character comparison ratio: 0.16666666666666666\n",
                        "Slice each 2 characters comparison ratio: 0.6\n",
                        "Slice each 3 characters comparison ratio: 0.5\n",
                        "Common characters ratio: 0.8333333333333334\n"
                    ]
                }
            ],
            "source": [
                "str1 = 'mnday'\n",
                "str2 = 'Monday'\n",
                "print(\"Character by character comparison ratio: \" + str(strings.match_ratio(str1, str2, method='charbychar', case_sensitive=False)))\n",
                "print(\"Slice each 2 characters comparison ratio: \" + str(strings.match_ratio(str1, str2, method='sliceeach2', case_sensitive=False)))\n",
                "print(\"Slice each 3 characters comparison ratio: \" + str(strings.match_ratio(str1, str2, method='sliceeach3', case_sensitive=False)))\n",
                "print(\"Common characters ratio: \" + str(strings.match_ratio(str1, str2, method='commonchars', case_sensitive=False)))"
            ]
        },
        {
            "cell_type": "markdown",
            "metadata": {},
            "source": [
                "### strings.slice()\n",
                "Returns a `target` string subdivided in chunks (list), according to `chunk_size` variable."
            ]
        },
        {
            "cell_type": "code",
            "execution_count": 10,
            "metadata": {},
            "outputs": [
                {
                    "name": "stdout",
                    "output_type": "stream",
                    "text": [
                        "['ho', 'ou', 'us', 'se']\n",
                        "['hou', 'ous', 'use']\n",
                        "['hous', 'ouse']\n"
                    ]
                }
            ],
            "source": [
                "string = \"house\"\n",
                "print(strings.slice(string, 2))\n",
                "print(strings.slice(string, 3))\n",
                "print(strings.slice(string, 4))"
            ]
        }
    ],
    "metadata": {
        "kernelspec": {
            "display_name": "Python 3.10.4 ('dfcleaner-1rXQxTjZ-py3.10')",
            "language": "python",
            "name": "python3"
        },
        "language_info": {
            "codemirror_mode": {
                "name": "ipython",
                "version": 3
            },
            "file_extension": ".py",
            "mimetype": "text/x-python",
            "name": "python",
            "nbconvert_exporter": "python",
            "pygments_lexer": "ipython3",
            "version": "3.10.4"
        },
        "vscode": {
            "interpreter": {
                "hash": "3f73860ef804e036d0b1c80229646c5c1b8470e955e534e4ff06803e76b36410"
            }
        }
    },
    "nbformat": 4,
    "nbformat_minor": 4
}
