{
    "cells": [
        {
            "cell_type": "markdown",
            "metadata": {},
            "source": [
                "# dfcleaner: usage examples"
            ]
        },
        {
            "cell_type": "markdown",
            "metadata": {},
            "source": [
                "## Importing `dfcleaner` in a project:"
            ]
        },
        {
            "cell_type": "markdown",
            "metadata": {},
            "source": [
                "To use `dfcleaner` in a project we have to import its subpackages. "
            ]
        },
        {
            "cell_type": "code",
            "execution_count": 3,
            "metadata": {},
            "outputs": [],
            "source": [
                "# import dfcleaner\n",
                "# print(dfcleaner.__version__)\n",
                "\n",
                "from dfcleaner import catvars # for methods operating on categorical variables \n",
                "from dfcleaner import strings # for methods operating on strings"
            ]
        }
    ],
    "metadata": {
        "kernelspec": {
            "display_name": "Python 3.10.4 ('dfcleaner-1rXQxTjZ-py3.10')",
            "language": "python",
            "name": "python3"
        },
        "language_info": {
            "codemirror_mode": {
                "name": "ipython",
                "version": 3
            },
            "file_extension": ".py",
            "mimetype": "text/x-python",
            "name": "python",
            "nbconvert_exporter": "python",
            "pygments_lexer": "ipython3",
            "version": "3.10.4"
        },
        "vscode": {
            "interpreter": {
                "hash": "3f73860ef804e036d0b1c80229646c5c1b8470e955e534e4ff06803e76b36410"
            }
        }
    },
    "nbformat": 4,
    "nbformat_minor": 4
}
