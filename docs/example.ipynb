{
    "cells": [
        {
            "cell_type": "markdown",
            "metadata": {},
            "source": [
                "# `dfcleaner` demonstration: usage examples"
            ]
        },
        {
            "cell_type": "markdown",
            "metadata": {},
            "source": [
                "## Importing `dfcleaner` in a project:"
            ]
        },
        {
            "cell_type": "markdown",
            "metadata": {},
            "source": [
                "To use `dfcleaner` in a project we have to import its subpackages, according to the type of operations that are required."
            ]
        },
        {
            "cell_type": "code",
            "execution_count": 1,
            "metadata": {},
            "outputs": [],
            "source": [
                "# import dfcleaner\n",
                "# print(dfcleaner.__version__)\n",
                "\n",
                "from dfcleaner import catvars as catvars # for methods operating on categorical variables \n",
                "from dfcleaner import strings as strings # for methods operating on strings\n",
                "# etc..."
            ]
        },
        {
            "cell_type": "markdown",
            "metadata": {},
            "source": [
                "Let's also import some external packages for the sake of this demonstration."
            ]
        },
        {
            "cell_type": "code",
            "execution_count": 2,
            "metadata": {},
            "outputs": [],
            "source": [
                "import pandas as pd"
            ]
        },
        {
            "cell_type": "markdown",
            "metadata": {},
            "source": [
                "## Categorical variables"
            ]
        },
        {
            "cell_type": "markdown",
            "metadata": {},
            "source": [
                "To display how `dfcleaner` works on categorical variables, let's first create a dummy `pandas` dataframe. In this case, we fill it with two columns: one representing a categorical variable full of \"mistakes\" and one with the \"right\" categories."
            ]
        },
        {
            "cell_type": "code",
            "execution_count": 3,
            "metadata": {},
            "outputs": [
                {
                    "data": {
                        "text/html": [
                            "<div>\n",
                            "<style scoped>\n",
                            "    .dataframe tbody tr th:only-of-type {\n",
                            "        vertical-align: middle;\n",
                            "    }\n",
                            "\n",
                            "    .dataframe tbody tr th {\n",
                            "        vertical-align: top;\n",
                            "    }\n",
                            "\n",
                            "    .dataframe thead th {\n",
                            "        text-align: right;\n",
                            "    }\n",
                            "</style>\n",
                            "<table border=\"1\" class=\"dataframe\">\n",
                            "  <thead>\n",
                            "    <tr style=\"text-align: right;\">\n",
                            "      <th></th>\n",
                            "      <th>dirty_cats</th>\n",
                            "      <th>clean_cats</th>\n",
                            "    </tr>\n",
                            "  </thead>\n",
                            "  <tbody>\n",
                            "    <tr>\n",
                            "      <th>0</th>\n",
                            "      <td>monday</td>\n",
                            "      <td>Monday</td>\n",
                            "    </tr>\n",
                            "    <tr>\n",
                            "      <th>1</th>\n",
                            "      <td>Tusday</td>\n",
                            "      <td>Tuesday</td>\n",
                            "    </tr>\n",
                            "    <tr>\n",
                            "      <th>2</th>\n",
                            "      <td>Wednesday</td>\n",
                            "      <td>Wednesday</td>\n",
                            "    </tr>\n",
                            "    <tr>\n",
                            "      <th>3</th>\n",
                            "      <td>thurda</td>\n",
                            "      <td>Thursday</td>\n",
                            "    </tr>\n",
                            "    <tr>\n",
                            "      <th>4</th>\n",
                            "      <td>Firday</td>\n",
                            "      <td>Friday</td>\n",
                            "    </tr>\n",
                            "    <tr>\n",
                            "      <th>5</th>\n",
                            "      <td>saty</td>\n",
                            "      <td>Saturday</td>\n",
                            "    </tr>\n",
                            "    <tr>\n",
                            "      <th>6</th>\n",
                            "      <td>Sunday</td>\n",
                            "      <td>Sunday</td>\n",
                            "    </tr>\n",
                            "  </tbody>\n",
                            "</table>\n",
                            "</div>"
                        ],
                        "text/plain": [
                            "  dirty_cats clean_cats\n",
                            "0     monday     Monday\n",
                            "1     Tusday    Tuesday\n",
                            "2  Wednesday  Wednesday\n",
                            "3     thurda   Thursday\n",
                            "4     Firday     Friday\n",
                            "5       saty   Saturday\n",
                            "6     Sunday     Sunday"
                        ]
                    },
                    "execution_count": 3,
                    "metadata": {},
                    "output_type": "execute_result"
                }
            ],
            "source": [
                "dirty_cats = ['monday', 'Tusday', 'Wednesday', 'thurda', 'Firday', 'saty', 'Sunday']\n",
                "clean_cats = ['Monday', 'Tuesday', 'Wednesday', 'Thursday', 'Friday', 'Saturday', 'Sunday']\n",
                "\n",
                "df = pd.DataFrame({'dirty_cats': dirty_cats, 'clean_cats': clean_cats})\n",
                "df"
            ]
        },
        {
            "cell_type": "markdown",
            "metadata": {},
            "source": [
                "### catvars.categorical_variables()\n",
                "Retrieves a `pandas.DataFrame`'s categorical variables and their unique values."
            ]
        },
        {
            "cell_type": "markdown",
            "metadata": {},
            "source": [
                "## Operations on strings"
            ]
        },
        {
            "cell_type": "markdown",
            "metadata": {},
            "source": [
                "### strings.remove_chars()\n",
                "Simple method for cleaning recurrent unwanted characters or substrings from a target variable of type `str`, `list`, `tuple`, or `pandas.Series`."
            ]
        },
        {
            "cell_type": "code",
            "execution_count": 4,
            "metadata": {},
            "outputs": [
                {
                    "name": "stdout",
                    "output_type": "stream",
                    "text": [
                        "0       monda\n",
                        "1       Tusda\n",
                        "2    Wednesda\n",
                        "3      thurda\n",
                        "4       Firda\n",
                        "5         sat\n",
                        "6       Sunda\n",
                        "Name: dirty_cats, dtype: object\n"
                    ]
                },
                {
                    "data": {
                        "text/plain": [
                            "pandas.core.series.Series"
                        ]
                    },
                    "execution_count": 4,
                    "metadata": {},
                    "output_type": "execute_result"
                }
            ],
            "source": [
                "clean_pdSeries = strings.remove_chars(df['dirty_cats'], ['m', 'W', 'y'])\n",
                "print(clean_pdSeries)\n",
                "type(clean_pdSeries)"
            ]
        },
        {
            "cell_type": "code",
            "execution_count": 5,
            "metadata": {},
            "outputs": [
                {
                    "name": "stdout",
                    "output_type": "stream",
                    "text": [
                        "onda\n"
                    ]
                },
                {
                    "data": {
                        "text/plain": [
                            "str"
                        ]
                    },
                    "execution_count": 5,
                    "metadata": {},
                    "output_type": "execute_result"
                }
            ],
            "source": [
                "clean_str = strings.remove_chars('monday', ['m', 'y'])\n",
                "print(clean_str)\n",
                "type(clean_str)"
            ]
        },
        {
            "cell_type": "markdown",
            "metadata": {},
            "source": [
                "### strings.match_ratio()\n",
                "Function that provides different methods for comparing two given strings and return a match ratio."
            ]
        },
        {
            "cell_type": "code",
            "execution_count": 6,
            "metadata": {},
            "outputs": [
                {
                    "name": "stdout",
                    "output_type": "stream",
                    "text": [
                        "Character by character comparison ratio: 0.16666666666666666\n",
                        "Slice each 2 characters comparison ratio: 0.6\n",
                        "Slice each 3 characters comparison ratio: 0.5\n",
                        "Common characters ratio: 0.8333333333333334\n"
                    ]
                }
            ],
            "source": [
                "str1 = 'mnday'\n",
                "str2 = 'Monday'\n",
                "print(\"Character by character comparison ratio: \" + str(strings.match_ratio(str1, str2, method='charbychar', case_sensitive=False)))\n",
                "print(\"Slice each 2 characters comparison ratio: \" + str(strings.match_ratio(str1, str2, method='sliceeach2', case_sensitive=False)))\n",
                "print(\"Slice each 3 characters comparison ratio: \" + str(strings.match_ratio(str1, str2, method='sliceeach3', case_sensitive=False)))\n",
                "print(\"Common characters ratio: \" + str(strings.match_ratio(str1, str2, method='commonchars', case_sensitive=False)))"
            ]
        },
        {
            "cell_type": "markdown",
            "metadata": {},
            "source": [
                "### strings.slice()\n",
                "Returns a `target` string subdivided in chunks (list), according to `chunk_size` variable."
            ]
        },
        {
            "cell_type": "code",
            "execution_count": 10,
            "metadata": {},
            "outputs": [
                {
                    "name": "stdout",
                    "output_type": "stream",
                    "text": [
                        "['ho', 'ou', 'us', 'se']\n",
                        "['hou', 'ous', 'use']\n",
                        "['hous', 'ouse']\n"
                    ]
                }
            ],
            "source": [
                "string = \"house\"\n",
                "print(strings.slice(string, 2))\n",
                "print(strings.slice(string, 3))\n",
                "print(strings.slice(string, 4))"
            ]
        }
    ],
    "metadata": {
        "kernelspec": {
            "display_name": "Python 3.10.4 ('dfcleaner-1rXQxTjZ-py3.10')",
            "language": "python",
            "name": "python3"
        },
        "language_info": {
            "codemirror_mode": {
                "name": "ipython",
                "version": 3
            },
            "file_extension": ".py",
            "mimetype": "text/x-python",
            "name": "python",
            "nbconvert_exporter": "python",
            "pygments_lexer": "ipython3",
            "version": "3.10.4"
        },
        "vscode": {
            "interpreter": {
                "hash": "3f73860ef804e036d0b1c80229646c5c1b8470e955e534e4ff06803e76b36410"
            }
        }
    },
    "nbformat": 4,
    "nbformat_minor": 4
}
