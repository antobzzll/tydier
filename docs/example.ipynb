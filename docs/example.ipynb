{
    "cells": [
        {
            "cell_type": "markdown",
            "metadata": {},
            "source": [
                "# `tydier` demonstration: usage examples"
            ]
        },
        {
            "cell_type": "markdown",
            "metadata": {},
            "source": [
                "## Importing `tydier` in a project:"
            ]
        },
        {
            "cell_type": "markdown",
            "metadata": {},
            "source": [
                "To use `tydier` in a project, just import its main module. Aliasing it as `ty` would be considered as a good practice."
            ]
        },
        {
            "cell_type": "code",
            "execution_count": 2,
            "metadata": {},
            "outputs": [],
            "source": [
                "import tydier as ty"
            ]
        },
        {
            "cell_type": "markdown",
            "metadata": {},
            "source": [
                "For the sake of this demonstration, let's import also `pandas`."
            ]
        },
        {
            "cell_type": "code",
            "execution_count": 3,
            "metadata": {},
            "outputs": [],
            "source": [
                "import pandas as pd"
            ]
        },
        {
            "cell_type": "markdown",
            "metadata": {},
            "source": [
                "## Categorical variables"
            ]
        },
        {
            "cell_type": "markdown",
            "metadata": {},
            "source": [
                "To display how `tydier` works on categorical variables, let's first create a dummy `pandas` dataframe. In this case, we fill it with two columns: one representing a categorical variable full of \"typos\" and one with the \"right\" values: let's take week days as an example."
            ]
        },
        {
            "cell_type": "code",
            "execution_count": 4,
            "metadata": {},
            "outputs": [
                {
                    "data": {
                        "text/html": [
                            "<div>\n",
                            "<style scoped>\n",
                            "    .dataframe tbody tr th:only-of-type {\n",
                            "        vertical-align: middle;\n",
                            "    }\n",
                            "\n",
                            "    .dataframe tbody tr th {\n",
                            "        vertical-align: top;\n",
                            "    }\n",
                            "\n",
                            "    .dataframe thead th {\n",
                            "        text-align: right;\n",
                            "    }\n",
                            "</style>\n",
                            "<table border=\"1\" class=\"dataframe\">\n",
                            "  <thead>\n",
                            "    <tr style=\"text-align: right;\">\n",
                            "      <th></th>\n",
                            "      <th>dirty_cats</th>\n",
                            "      <th>clean_cats</th>\n",
                            "    </tr>\n",
                            "  </thead>\n",
                            "  <tbody>\n",
                            "    <tr>\n",
                            "      <th>0</th>\n",
                            "      <td>monday</td>\n",
                            "      <td>Monday</td>\n",
                            "    </tr>\n",
                            "    <tr>\n",
                            "      <th>1</th>\n",
                            "      <td>Tusday</td>\n",
                            "      <td>Tuesday</td>\n",
                            "    </tr>\n",
                            "    <tr>\n",
                            "      <th>2</th>\n",
                            "      <td>Wednesday</td>\n",
                            "      <td>Wednesday</td>\n",
                            "    </tr>\n",
                            "    <tr>\n",
                            "      <th>3</th>\n",
                            "      <td>thurda</td>\n",
                            "      <td>Thursday</td>\n",
                            "    </tr>\n",
                            "    <tr>\n",
                            "      <th>4</th>\n",
                            "      <td>Firday</td>\n",
                            "      <td>Friday</td>\n",
                            "    </tr>\n",
                            "    <tr>\n",
                            "      <th>5</th>\n",
                            "      <td>saty</td>\n",
                            "      <td>Saturday</td>\n",
                            "    </tr>\n",
                            "    <tr>\n",
                            "      <th>6</th>\n",
                            "      <td>Sunday</td>\n",
                            "      <td>Sunday</td>\n",
                            "    </tr>\n",
                            "  </tbody>\n",
                            "</table>\n",
                            "</div>"
                        ],
                        "text/plain": [
                            "  dirty_cats clean_cats\n",
                            "0     monday     Monday\n",
                            "1     Tusday    Tuesday\n",
                            "2  Wednesday  Wednesday\n",
                            "3     thurda   Thursday\n",
                            "4     Firday     Friday\n",
                            "5       saty   Saturday\n",
                            "6     Sunday     Sunday"
                        ]
                    },
                    "execution_count": 4,
                    "metadata": {},
                    "output_type": "execute_result"
                }
            ],
            "source": [
                "dirty_cats = ['monday', 'Tusday', 'Wednesday',\n",
                "              'thurda', 'Firday', 'saty', 'Sunday']\n",
                "clean_cats = ['Monday', 'Tuesday', 'Wednesday',\n",
                "              'Thursday', 'Friday', 'Saturday', 'Sunday']\n",
                "\n",
                "df = pd.DataFrame({'dirty_cats': dirty_cats, 'clean_cats': clean_cats})\n",
                "df"
            ]
        },
        {
            "cell_type": "markdown",
            "metadata": {},
            "source": [
                "### catvars.categorical_variables()\n",
                "**Retrieves a `pandas.DataFrame`'s categorical variables and their unique values.**"
            ]
        },
        {
            "cell_type": "code",
            "execution_count": 5,
            "metadata": {},
            "outputs": [
                {
                    "name": "stdout",
                    "output_type": "stream",
                    "text": [
                        "{'dirty_cats': array(['monday', 'Tusday', 'Wednesday', 'thurda', 'Firday', 'saty',\n",
                        "       'Sunday'], dtype=object), 'clean_cats': array(['Monday', 'Tuesday', 'Wednesday', 'Thursday', 'Friday', 'Saturday',\n",
                        "       'Sunday'], dtype=object)}\n",
                        "\n",
                        "(1) dirty_cats | 7 unique values:\n",
                        "['monday' 'Tusday' 'Wednesday' 'thurda' 'Firday' 'saty' 'Sunday']\n",
                        "\n",
                        "(2) clean_cats | 7 unique values:\n",
                        "['Monday' 'Tuesday' 'Wednesday' 'Thursday' 'Friday' 'Saturday' 'Sunday']\n",
                        "\n"
                    ]
                }
            ],
            "source": [
                "print(ty.categorical_variables(df))\n",
                "print()\n",
                "ty.categorical_variables(df, display=True)"
            ]
        },
        {
            "cell_type": "markdown",
            "metadata": {},
            "source": [
                "### utilities.clean_col_names()\n",
                "**Method for cleaning column names of a `pandas.DataFrame`.**\n",
                "\n",
                "To show the usage of this method, let's first rename our dataframe's columns in an \"untidy\" way."
            ]
        },
        {
            "cell_type": "code",
            "execution_count": 6,
            "metadata": {},
            "outputs": [],
            "source": [
                "df.columns = ['    Dirty  categorieS', ':/Clean !@#$%&*(){}[];:.,/\\|˜ Categories']"
            ]
        },
        {
            "cell_type": "markdown",
            "metadata": {},
            "source": [
                "Now that we have inconsistent column names that need to be cleaned, we can call `clean_col_names()` and assign it to `pandas.DataFrame.columns`. The method will fix *untidy* words and return a list of cleaned column names. The dataframe's columns will be renamed automatically."
            ]
        },
        {
            "cell_type": "code",
            "execution_count": 7,
            "metadata": {},
            "outputs": [
                {
                    "name": "stdout",
                    "output_type": "stream",
                    "text": [
                        "['dirty', 'categories']\n",
                        "['clean', 'categories']\n",
                        "Index(['dirty_categories', 'clean_categories'], dtype='object')\n"
                    ]
                }
            ],
            "source": [
                "df.columns = ty.clean_col_names(df.columns)\n",
                "print(df.columns)"
            ]
        },
        {
            "cell_type": "markdown",
            "metadata": {},
            "source": [
                "### catvars.find_inconsistent_categories()\n",
                "**Find inconsistent categorical values in a `pandas.Series` by checking it against a correct list of permitted parameters.**"
            ]
        },
        {
            "cell_type": "code",
            "execution_count": 8,
            "metadata": {},
            "outputs": [
                {
                    "data": {
                        "text/plain": [
                            "['Firday', 'saty', 'thurda', 'monday', 'Tusday']"
                        ]
                    },
                    "execution_count": 8,
                    "metadata": {},
                    "output_type": "execute_result"
                }
            ],
            "source": [
                "ty.inconsistent_categories(dirty_cats, clean_cats)"
            ]
        },
        {
            "cell_type": "markdown",
            "metadata": {},
            "source": [
                "Setting `mapping_dict` to `True`, will return a dictionary which we can pass to `pandas.Series.replace()` to automatically replace inconsistent categorical values in a `pandas.Series`:"
            ]
        },
        {
            "cell_type": "code",
            "execution_count": 9,
            "metadata": {},
            "outputs": [
                {
                    "data": {
                        "text/html": [
                            "<div>\n",
                            "<style scoped>\n",
                            "    .dataframe tbody tr th:only-of-type {\n",
                            "        vertical-align: middle;\n",
                            "    }\n",
                            "\n",
                            "    .dataframe tbody tr th {\n",
                            "        vertical-align: top;\n",
                            "    }\n",
                            "\n",
                            "    .dataframe thead th {\n",
                            "        text-align: right;\n",
                            "    }\n",
                            "</style>\n",
                            "<table border=\"1\" class=\"dataframe\">\n",
                            "  <thead>\n",
                            "    <tr style=\"text-align: right;\">\n",
                            "      <th></th>\n",
                            "      <th>dirty_categories</th>\n",
                            "      <th>clean_categories</th>\n",
                            "      <th>cleaned_dirty_cats</th>\n",
                            "    </tr>\n",
                            "  </thead>\n",
                            "  <tbody>\n",
                            "    <tr>\n",
                            "      <th>0</th>\n",
                            "      <td>monday</td>\n",
                            "      <td>Monday</td>\n",
                            "      <td>Monday</td>\n",
                            "    </tr>\n",
                            "    <tr>\n",
                            "      <th>1</th>\n",
                            "      <td>Tusday</td>\n",
                            "      <td>Tuesday</td>\n",
                            "      <td>Tuesday</td>\n",
                            "    </tr>\n",
                            "    <tr>\n",
                            "      <th>2</th>\n",
                            "      <td>Wednesday</td>\n",
                            "      <td>Wednesday</td>\n",
                            "      <td>Wednesday</td>\n",
                            "    </tr>\n",
                            "    <tr>\n",
                            "      <th>3</th>\n",
                            "      <td>thurda</td>\n",
                            "      <td>Thursday</td>\n",
                            "      <td>Thursday</td>\n",
                            "    </tr>\n",
                            "    <tr>\n",
                            "      <th>4</th>\n",
                            "      <td>Firday</td>\n",
                            "      <td>Friday</td>\n",
                            "      <td>Friday</td>\n",
                            "    </tr>\n",
                            "    <tr>\n",
                            "      <th>5</th>\n",
                            "      <td>saty</td>\n",
                            "      <td>Saturday</td>\n",
                            "      <td>Saturday</td>\n",
                            "    </tr>\n",
                            "    <tr>\n",
                            "      <th>6</th>\n",
                            "      <td>Sunday</td>\n",
                            "      <td>Sunday</td>\n",
                            "      <td>Sunday</td>\n",
                            "    </tr>\n",
                            "  </tbody>\n",
                            "</table>\n",
                            "</div>"
                        ],
                        "text/plain": [
                            "  dirty_categories clean_categories cleaned_dirty_cats\n",
                            "0           monday           Monday             Monday\n",
                            "1           Tusday          Tuesday            Tuesday\n",
                            "2        Wednesday        Wednesday          Wednesday\n",
                            "3           thurda         Thursday           Thursday\n",
                            "4           Firday           Friday             Friday\n",
                            "5             saty         Saturday           Saturday\n",
                            "6           Sunday           Sunday             Sunday"
                        ]
                    },
                    "execution_count": 9,
                    "metadata": {},
                    "output_type": "execute_result"
                }
            ],
            "source": [
                "mapping = ty.inconsistent_categories(dirty_cats, clean_cats, mapping_dict=True)\n",
                "df['cleaned_dirty_cats'] = df['dirty_categories'].replace(mapping)\n",
                "df"
            ]
        },
        {
            "cell_type": "markdown",
            "metadata": {},
            "source": [
                "## Numeric variables"
            ]
        },
        {
            "cell_type": "markdown",
            "metadata": {},
            "source": [
                "### numvars.currency_to_float()\n",
                "**Automatically cleans a variable containing a numeric value expressed in currency notation (meaning a string composed by a numeric value + a currency symbol of three-letter code), and and prepares it for analysis by transforming it to `float` type. Target variable of type `str`, `list`, `tuple`, or `pandas.Series`.**"
            ]
        },
        {
            "cell_type": "markdown",
            "metadata": {},
            "source": [
                "With a string:"
            ]
        },
        {
            "cell_type": "code",
            "execution_count": 10,
            "metadata": {},
            "outputs": [
                {
                    "name": "stdout",
                    "output_type": "stream",
                    "text": [
                        "50.0 $\n"
                    ]
                }
            ],
            "source": [
                "value, currency = ty.currency_to_float('$50,00')\n",
                "print(value, currency)"
            ]
        },
        {
            "cell_type": "markdown",
            "metadata": {},
            "source": [
                "With a `list`/`tuple`:"
            ]
        },
        {
            "cell_type": "code",
            "execution_count": 11,
            "metadata": {},
            "outputs": [
                {
                    "name": "stdout",
                    "output_type": "stream",
                    "text": [
                        "Values:\n",
                        "[1200.45, 23000.12, 123000.56, 45.0, 56.9]\n",
                        "Currencies:\n",
                        "['EUR', '$', 'USD', '$', '$']\n"
                    ]
                }
            ],
            "source": [
                "prices = [\"EUR 1200,45\", \"  23,000.12 $\", \"123,000.56USD\", \"$45\", \"$ 56,90\"]\n",
                "\n",
                "v, c = ty.currency_to_float(prices)\n",
                "print(\"Values:\")\n",
                "print(v)\n",
                "print(\"Currencies:\")\n",
                "print(c)"
            ]
        },
        {
            "cell_type": "markdown",
            "metadata": {},
            "source": [
                "And finally, with a `pandas.Series`:"
            ]
        },
        {
            "cell_type": "code",
            "execution_count": 12,
            "metadata": {},
            "outputs": [
                {
                    "name": "stdout",
                    "output_type": "stream",
                    "text": [
                        "0      EUR 1200,45\n",
                        "1      23,000.12 $\n",
                        "2    123,000.56USD\n",
                        "3              $45\n",
                        "4          $ 56,90\n",
                        "dtype: object\n",
                        "\n",
                        "Values:\n",
                        "0      1200.45\n",
                        "1     23000.12\n",
                        "2    123000.56\n",
                        "3        45.00\n",
                        "4        56.90\n",
                        "dtype: float64\n",
                        "\n",
                        "Currencies:\n",
                        "0    EUR\n",
                        "1      $\n",
                        "2    USD\n",
                        "3      $\n",
                        "4      $\n",
                        "dtype: object\n"
                    ]
                }
            ],
            "source": [
                "prices = pd.Series(prices)\n",
                "print(prices)\n",
                "\n",
                "v, c = ty.currency_to_float(prices)\n",
                "print(\"\\nValues:\")\n",
                "print(v)\n",
                "print(\"\\nCurrencies:\")\n",
                "print(c)"
            ]
        },
        {
            "cell_type": "markdown",
            "metadata": {},
            "source": [
                "## Operations on strings"
            ]
        },
        {
            "cell_type": "markdown",
            "metadata": {},
            "source": [
                "### strings.remove_chars()\n",
                "**Simple method for cleaning unwanted characters or substrings from a target variable of type `str`, `list`, `tuple`, or `pandas.Series`.**"
            ]
        },
        {
            "cell_type": "code",
            "execution_count": 13,
            "metadata": {},
            "outputs": [
                {
                    "name": "stdout",
                    "output_type": "stream",
                    "text": [
                        "0      monday\n",
                        "1       usday\n",
                        "2    ednesday\n",
                        "3      thurda\n",
                        "4       irday\n",
                        "5        saty\n",
                        "6      Sunday\n",
                        "Name: dirty_categories, dtype: object\n"
                    ]
                },
                {
                    "data": {
                        "text/plain": [
                            "pandas.core.series.Series"
                        ]
                    },
                    "execution_count": 13,
                    "metadata": {},
                    "output_type": "execute_result"
                }
            ],
            "source": [
                "clean_pdSeries = ty.remove_chars(df['dirty_categories'], ['F', 'T', 'W'])\n",
                "print(clean_pdSeries)\n",
                "type(clean_pdSeries)"
            ]
        },
        {
            "cell_type": "code",
            "execution_count": 14,
            "metadata": {},
            "outputs": [
                {
                    "name": "stdout",
                    "output_type": "stream",
                    "text": [
                        "['onda', 'tuesda']\n"
                    ]
                },
                {
                    "data": {
                        "text/plain": [
                            "list"
                        ]
                    },
                    "execution_count": 14,
                    "metadata": {},
                    "output_type": "execute_result"
                }
            ],
            "source": [
                "clean_str = ty.remove_chars(['monday', 'tuesday'], ['m', 'y'])\n",
                "print(clean_str)\n",
                "type(clean_str)"
            ]
        },
        {
            "cell_type": "markdown",
            "metadata": {},
            "source": [
                "### strings.match_ratio()\n",
                "**Function that provides different methods for comparing two given strings and return a match ratio.**"
            ]
        },
        {
            "cell_type": "code",
            "execution_count": 15,
            "metadata": {},
            "outputs": [
                {
                    "name": "stdout",
                    "output_type": "stream",
                    "text": [
                        "'Character by character' comparison ratio: 0.16666666666666666\n",
                        "'Slice each 2 characters' comparison ratio: 0.6\n",
                        "'Slice each 3 characters' comparison ratio: 0.5\n",
                        "'Common characters' ratio: 0.8333333333333334\n"
                    ]
                }
            ],
            "source": [
                "str1 = 'mnday'\n",
                "str2 = 'Monday'\n",
                "\n",
                "print(\"'Character by character' comparison ratio: \" +\n",
                "      str(ty.match_ratio(str1, str2, method='charbychar', case_sensitive=False)))\n",
                "print(\"'Slice each 2 characters' comparison ratio: \" +\n",
                "      str(ty.match_ratio(str1, str2, method='sliceeach2', case_sensitive=False)))\n",
                "print(\"'Slice each 3 characters' comparison ratio: \" +\n",
                "      str(ty.match_ratio(str1, str2, method='sliceeach3', case_sensitive=False)))\n",
                "print(\"'Common characters' ratio: \" + str(ty.match_ratio(str1,\n",
                "      str2, method='commonchars', case_sensitive=False)))"
            ]
        },
        {
            "cell_type": "markdown",
            "metadata": {},
            "source": [
                "### strings.slice()\n",
                "**Returns a `target` string subdivided in chunks (in `list` type), according to `chunk_size` variable.**"
            ]
        },
        {
            "cell_type": "code",
            "execution_count": 16,
            "metadata": {},
            "outputs": [
                {
                    "name": "stdout",
                    "output_type": "stream",
                    "text": [
                        "['ho', 'ou', 'us', 'se']\n",
                        "['hou', 'ous', 'use']\n",
                        "['hous', 'ouse']\n"
                    ]
                }
            ],
            "source": [
                "string = \"house\"\n",
                "\n",
                "print(ty.slice(string, 2))\n",
                "print(ty.slice(string, 3))\n",
                "print(ty.slice(string, 4))"
            ]
        }
    ],
    "metadata": {
        "kernelspec": {
            "display_name": "Python 3.10.6 ('tydier-I0zCQwUb-py3.10')",
            "language": "python",
            "name": "python3"
        },
        "language_info": {
            "codemirror_mode": {
                "name": "ipython",
                "version": 3
            },
            "file_extension": ".py",
            "mimetype": "text/x-python",
            "name": "python",
            "nbconvert_exporter": "python",
            "pygments_lexer": "ipython3",
            "version": "3.10.6"
        },
        "vscode": {
            "interpreter": {
                "hash": "fa0d793e727cbe07bd77df3447d868ed13d8430bc112f4abef3f76007ccf4ba0"
            }
        }
    },
    "nbformat": 4,
    "nbformat_minor": 4
}
