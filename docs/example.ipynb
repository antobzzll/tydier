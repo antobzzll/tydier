{
    "cells": [
        {
            "cell_type": "markdown",
            "metadata": {},
            "source": [
                "# `tydier` demonstration: usage examples"
            ]
        },
        {
            "cell_type": "markdown",
            "metadata": {},
            "source": [
                "## Importing `tydier` in a project:"
            ]
        },
        {
            "cell_type": "markdown",
            "metadata": {},
            "source": [
                "To use `tydier` in a project we have to import its subpackages, according to the type of operations that need to be performed."
            ]
        },
        {
            "cell_type": "code",
            "execution_count": 1,
            "metadata": {},
            "outputs": [],
            "source": [
                "from tydier import catvars as catvars # for methods operating on categorical variables \n",
                "from tydier import numvars as numvars # for methods operating on numeric variables\n",
                "from tydier import strings as strings # for methods operating on strings"
            ]
        },
        {
            "cell_type": "markdown",
            "metadata": {},
            "source": [
                "Let's also import some external packages for the sake of this demonstration."
            ]
        },
        {
            "cell_type": "code",
            "execution_count": 2,
            "metadata": {},
            "outputs": [],
            "source": [
                "import pandas as pd"
            ]
        },
        {
            "cell_type": "markdown",
            "metadata": {},
            "source": [
                "## Categorical variables"
            ]
        },
        {
            "cell_type": "markdown",
            "metadata": {},
            "source": [
                "To display how `tydier` works on categorical variables, let's first create a dummy `pandas` dataframe. In this case, we fill it with two columns: one representing a categorical variable full of \"typos\" and one with the \"right\" values: let's take the example of week days."
            ]
        },
        {
            "cell_type": "code",
            "execution_count": 3,
            "metadata": {},
            "outputs": [
                {
                    "data": {
                        "text/html": [
                            "<div>\n",
                            "<style scoped>\n",
                            "    .dataframe tbody tr th:only-of-type {\n",
                            "        vertical-align: middle;\n",
                            "    }\n",
                            "\n",
                            "    .dataframe tbody tr th {\n",
                            "        vertical-align: top;\n",
                            "    }\n",
                            "\n",
                            "    .dataframe thead th {\n",
                            "        text-align: right;\n",
                            "    }\n",
                            "</style>\n",
                            "<table border=\"1\" class=\"dataframe\">\n",
                            "  <thead>\n",
                            "    <tr style=\"text-align: right;\">\n",
                            "      <th></th>\n",
                            "      <th>dirty_cats</th>\n",
                            "      <th>clean_cats</th>\n",
                            "    </tr>\n",
                            "  </thead>\n",
                            "  <tbody>\n",
                            "    <tr>\n",
                            "      <th>0</th>\n",
                            "      <td>monday</td>\n",
                            "      <td>Monday</td>\n",
                            "    </tr>\n",
                            "    <tr>\n",
                            "      <th>1</th>\n",
                            "      <td>Tusday</td>\n",
                            "      <td>Tuesday</td>\n",
                            "    </tr>\n",
                            "    <tr>\n",
                            "      <th>2</th>\n",
                            "      <td>Wednesday</td>\n",
                            "      <td>Wednesday</td>\n",
                            "    </tr>\n",
                            "    <tr>\n",
                            "      <th>3</th>\n",
                            "      <td>thurda</td>\n",
                            "      <td>Thursday</td>\n",
                            "    </tr>\n",
                            "    <tr>\n",
                            "      <th>4</th>\n",
                            "      <td>Firday</td>\n",
                            "      <td>Friday</td>\n",
                            "    </tr>\n",
                            "    <tr>\n",
                            "      <th>5</th>\n",
                            "      <td>saty</td>\n",
                            "      <td>Saturday</td>\n",
                            "    </tr>\n",
                            "    <tr>\n",
                            "      <th>6</th>\n",
                            "      <td>Sunday</td>\n",
                            "      <td>Sunday</td>\n",
                            "    </tr>\n",
                            "  </tbody>\n",
                            "</table>\n",
                            "</div>"
                        ],
                        "text/plain": [
                            "  dirty_cats clean_cats\n",
                            "0     monday     Monday\n",
                            "1     Tusday    Tuesday\n",
                            "2  Wednesday  Wednesday\n",
                            "3     thurda   Thursday\n",
                            "4     Firday     Friday\n",
                            "5       saty   Saturday\n",
                            "6     Sunday     Sunday"
                        ]
                    },
                    "execution_count": 3,
                    "metadata": {},
                    "output_type": "execute_result"
                }
            ],
            "source": [
                "dirty_cats = ['monday', 'Tusday', 'Wednesday', 'thurda', 'Firday', 'saty', 'Sunday']\n",
                "clean_cats = ['Monday', 'Tuesday', 'Wednesday', 'Thursday', 'Friday', 'Saturday', 'Sunday']\n",
                "\n",
                "df = pd.DataFrame({'dirty_cats': dirty_cats, 'clean_cats': clean_cats})\n",
                "df"
            ]
        },
        {
            "cell_type": "markdown",
            "metadata": {},
            "source": [
                "### catvars.categorical_variables()\n",
                "Retrieves a `pandas.DataFrame`'s categorical variables and their unique values."
            ]
        },
        {
            "cell_type": "code",
            "execution_count": 4,
            "metadata": {},
            "outputs": [
                {
                    "name": "stdout",
                    "output_type": "stream",
                    "text": [
                        "{'dirty_cats': array(['monday', 'Tusday', 'Wednesday', 'thurda', 'Firday', 'saty',\n",
                        "       'Sunday'], dtype=object), 'clean_cats': array(['Monday', 'Tuesday', 'Wednesday', 'Thursday', 'Friday', 'Saturday',\n",
                        "       'Sunday'], dtype=object)}\n",
                        "\n",
                        "(1) dirty_cats | 7 unique values:\n",
                        "['monday' 'Tusday' 'Wednesday' 'thurda' 'Firday' 'saty' 'Sunday']\n",
                        "\n",
                        "(2) clean_cats | 7 unique values:\n",
                        "['Monday' 'Tuesday' 'Wednesday' 'Thursday' 'Friday' 'Saturday' 'Sunday']\n",
                        "\n"
                    ]
                }
            ],
            "source": [
                "print(catvars.categorical_variables(df))\n",
                "print()\n",
                "catvars.categorical_variables(df, display=True)"
            ]
        },
        {
            "cell_type": "markdown",
            "metadata": {},
            "source": [
                "### catvars.find_inconsistent_categories()\n",
                "Find inconsistent categorical values in a `pd.Series` by checking it against a correct list of permitted parameters."
            ]
        },
        {
            "cell_type": "code",
            "execution_count": 5,
            "metadata": {},
            "outputs": [
                {
                    "data": {
                        "text/plain": [
                            "{'Firday': 'Friday',\n",
                            " 'saty': 'Saturday',\n",
                            " 'thurda': 'Thursday',\n",
                            " 'Tusday': 'Tuesday',\n",
                            " 'monday': 'Monday'}"
                        ]
                    },
                    "execution_count": 5,
                    "metadata": {},
                    "output_type": "execute_result"
                }
            ],
            "source": [
                "catvars.inconsistent_categories(dirty_cats, clean_cats, mapping_dict=True)"
            ]
        },
        {
            "cell_type": "markdown",
            "metadata": {},
            "source": [
                "Replace inconsistent categorical values in a `pd.DataFrame`:"
            ]
        },
        {
            "cell_type": "code",
            "execution_count": 6,
            "metadata": {},
            "outputs": [
                {
                    "data": {
                        "text/html": [
                            "<div>\n",
                            "<style scoped>\n",
                            "    .dataframe tbody tr th:only-of-type {\n",
                            "        vertical-align: middle;\n",
                            "    }\n",
                            "\n",
                            "    .dataframe tbody tr th {\n",
                            "        vertical-align: top;\n",
                            "    }\n",
                            "\n",
                            "    .dataframe thead th {\n",
                            "        text-align: right;\n",
                            "    }\n",
                            "</style>\n",
                            "<table border=\"1\" class=\"dataframe\">\n",
                            "  <thead>\n",
                            "    <tr style=\"text-align: right;\">\n",
                            "      <th></th>\n",
                            "      <th>dirty_cats</th>\n",
                            "      <th>clean_cats</th>\n",
                            "      <th>cleaned_dirty_cats</th>\n",
                            "    </tr>\n",
                            "  </thead>\n",
                            "  <tbody>\n",
                            "    <tr>\n",
                            "      <th>0</th>\n",
                            "      <td>monday</td>\n",
                            "      <td>Monday</td>\n",
                            "      <td>Monday</td>\n",
                            "    </tr>\n",
                            "    <tr>\n",
                            "      <th>1</th>\n",
                            "      <td>Tusday</td>\n",
                            "      <td>Tuesday</td>\n",
                            "      <td>Tuesday</td>\n",
                            "    </tr>\n",
                            "    <tr>\n",
                            "      <th>2</th>\n",
                            "      <td>Wednesday</td>\n",
                            "      <td>Wednesday</td>\n",
                            "      <td>Wednesday</td>\n",
                            "    </tr>\n",
                            "    <tr>\n",
                            "      <th>3</th>\n",
                            "      <td>thurda</td>\n",
                            "      <td>Thursday</td>\n",
                            "      <td>Thursday</td>\n",
                            "    </tr>\n",
                            "    <tr>\n",
                            "      <th>4</th>\n",
                            "      <td>Firday</td>\n",
                            "      <td>Friday</td>\n",
                            "      <td>Friday</td>\n",
                            "    </tr>\n",
                            "    <tr>\n",
                            "      <th>5</th>\n",
                            "      <td>saty</td>\n",
                            "      <td>Saturday</td>\n",
                            "      <td>Saturday</td>\n",
                            "    </tr>\n",
                            "    <tr>\n",
                            "      <th>6</th>\n",
                            "      <td>Sunday</td>\n",
                            "      <td>Sunday</td>\n",
                            "      <td>Sunday</td>\n",
                            "    </tr>\n",
                            "  </tbody>\n",
                            "</table>\n",
                            "</div>"
                        ],
                        "text/plain": [
                            "  dirty_cats clean_cats cleaned_dirty_cats\n",
                            "0     monday     Monday             Monday\n",
                            "1     Tusday    Tuesday            Tuesday\n",
                            "2  Wednesday  Wednesday          Wednesday\n",
                            "3     thurda   Thursday           Thursday\n",
                            "4     Firday     Friday             Friday\n",
                            "5       saty   Saturday           Saturday\n",
                            "6     Sunday     Sunday             Sunday"
                        ]
                    },
                    "execution_count": 6,
                    "metadata": {},
                    "output_type": "execute_result"
                }
            ],
            "source": [
                "mapping = catvars.inconsistent_categories(dirty_cats, clean_cats, mapping_dict=True)\n",
                "df['cleaned_dirty_cats'] = df['dirty_cats'].replace(mapping)\n",
                "df"
            ]
        },
        {
            "cell_type": "markdown",
            "metadata": {},
            "source": [
                "## Numeric variables"
            ]
        },
        {
            "cell_type": "markdown",
            "metadata": {},
            "source": [
                "### numvars.currency_to_float()\n",
                "Automatically cleans a currency containing variable and prepares it for analysis by transforming it to `float`. Target variable of type `str`, `list`, `tuple`, or `pandas.Series`."
            ]
        },
        {
            "cell_type": "code",
            "execution_count": 7,
            "metadata": {},
            "outputs": [
                {
                    "name": "stdout",
                    "output_type": "stream",
                    "text": [
                        "0    50.0\n",
                        "1    30.0\n",
                        "dtype: float64\n"
                    ]
                }
            ],
            "source": [
                "prices = pd.Series([' $50,    00', '30, 00€'])\n",
                "print(numvars.currency_to_float(prices))"
            ]
        },
        {
            "cell_type": "markdown",
            "metadata": {},
            "source": [
                "## Operations on strings"
            ]
        },
        {
            "cell_type": "markdown",
            "metadata": {},
            "source": [
                "### strings.remove_chars()\n",
                "Simple method for cleaning recurrent unwanted characters or substrings from a target variable of type `str`, `list`, `tuple`, or `pandas.Series`."
            ]
        },
        {
            "cell_type": "code",
            "execution_count": 8,
            "metadata": {},
            "outputs": [
                {
                    "name": "stdout",
                    "output_type": "stream",
                    "text": [
                        "0      monday\n",
                        "1       usday\n",
                        "2    ednesday\n",
                        "3      thurda\n",
                        "4       irday\n",
                        "5        saty\n",
                        "6      Sunday\n",
                        "Name: dirty_cats, dtype: object\n"
                    ]
                },
                {
                    "data": {
                        "text/plain": [
                            "pandas.core.series.Series"
                        ]
                    },
                    "execution_count": 8,
                    "metadata": {},
                    "output_type": "execute_result"
                }
            ],
            "source": [
                "clean_pdSeries = strings.remove_chars(df['dirty_cats'], ['F', 'T', 'W'])\n",
                "print(clean_pdSeries)\n",
                "type(clean_pdSeries)"
            ]
        },
        {
            "cell_type": "code",
            "execution_count": 9,
            "metadata": {},
            "outputs": [
                {
                    "name": "stdout",
                    "output_type": "stream",
                    "text": [
                        "['onda', 'tuesda']\n"
                    ]
                },
                {
                    "data": {
                        "text/plain": [
                            "list"
                        ]
                    },
                    "execution_count": 9,
                    "metadata": {},
                    "output_type": "execute_result"
                }
            ],
            "source": [
                "clean_str = strings.remove_chars(['monday', 'tuesday'], ['m', 'y'])\n",
                "print(clean_str)\n",
                "type(clean_str)"
            ]
        },
        {
            "cell_type": "markdown",
            "metadata": {},
            "source": [
                "### strings.match_ratio()\n",
                "Function that provides different methods for comparing two given strings and return a match ratio."
            ]
        },
        {
            "cell_type": "code",
            "execution_count": 12,
            "metadata": {},
            "outputs": [
                {
                    "name": "stdout",
                    "output_type": "stream",
                    "text": [
                        "'Character by character' comparison ratio: 0.16666666666666666\n",
                        "'Slice each 2 characters' comparison ratio: 0.6\n",
                        "'Slice each 3 characters' comparison ratio: 0.5\n",
                        "'Common characters' ratio: 0.8333333333333334\n"
                    ]
                }
            ],
            "source": [
                "str1 = 'mnday'\n",
                "str2 = 'Monday'\n",
                "\n",
                "print(\"'Character by character' comparison ratio: \" + str(strings.match_ratio(str1, str2, method='charbychar', case_sensitive=False)))\n",
                "print(\"'Slice each 2 characters' comparison ratio: \" + str(strings.match_ratio(str1, str2, method='sliceeach2', case_sensitive=False)))\n",
                "print(\"'Slice each 3 characters' comparison ratio: \" + str(strings.match_ratio(str1, str2, method='sliceeach3', case_sensitive=False)))\n",
                "print(\"'Common characters' ratio: \" + str(strings.match_ratio(str1, str2, method='commonchars', case_sensitive=False)))"
            ]
        },
        {
            "cell_type": "markdown",
            "metadata": {},
            "source": [
                "### strings.slice()\n",
                "Returns a `target` string subdivided in chunks (in `list` type), according to `chunk_size` variable."
            ]
        },
        {
            "cell_type": "code",
            "execution_count": 11,
            "metadata": {},
            "outputs": [
                {
                    "name": "stdout",
                    "output_type": "stream",
                    "text": [
                        "['ho', 'ou', 'us', 'se']\n",
                        "['hou', 'ous', 'use']\n",
                        "['hous', 'ouse']\n"
                    ]
                }
            ],
            "source": [
                "string = \"house\"\n",
                "\n",
                "print(strings.slice(string, 2))\n",
                "print(strings.slice(string, 3))\n",
                "print(strings.slice(string, 4))"
            ]
        }
    ],
    "metadata": {
        "kernelspec": {
            "display_name": "Python 3.10.4 ('tydier-Gn3dgoFs-py3.10')",
            "language": "python",
            "name": "python3"
        },
        "language_info": {
            "codemirror_mode": {
                "name": "ipython",
                "version": 3
            },
            "file_extension": ".py",
            "mimetype": "text/x-python",
            "name": "python",
            "nbconvert_exporter": "python",
            "pygments_lexer": "ipython3",
            "version": "3.10.4"
        },
        "vscode": {
            "interpreter": {
                "hash": "eb09b583a69510390401d62c1845714c4a770bcd67d1fa7dd0ed782f12a19edc"
            }
        }
    },
    "nbformat": 4,
    "nbformat_minor": 4
}
